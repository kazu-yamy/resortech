{
 "cells": [
  {
   "cell_type": "code",
   "execution_count": 216,
   "metadata": {},
   "outputs": [],
   "source": [
    "import os\n",
    "import cv2\n",
    "import numpy as np\n",
    "import glob as glob\n",
    "from sklearn.model_selection import train_test_split\n",
    "from keras.utils import to_categorical"
   ]
  },
  {
   "cell_type": "code",
   "execution_count": 217,
   "metadata": {},
   "outputs": [],
   "source": [
    "path = \"image/base\"\n",
    "resize_path = 'image/resize'\n",
    "folders = os.listdir(path)"
   ]
  },
  {
   "cell_type": "code",
   "execution_count": 218,
   "metadata": {},
   "outputs": [
    {
     "data": {
      "text/plain": [
       "3"
      ]
     },
     "execution_count": 218,
     "metadata": {},
     "output_type": "execute_result"
    }
   ],
   "source": [
    "classes = [f for f in folders if os.path.isdir(os.path.join(path, f))]\n",
    "n_classes = len(classes)\n",
    "n_classes"
   ]
  },
  {
   "cell_type": "code",
   "execution_count": 233,
   "metadata": {},
   "outputs": [],
   "source": [
    "X = []\n",
    "Y = []"
   ]
  },
  {
   "cell_type": "code",
   "execution_count": 234,
   "metadata": {},
   "outputs": [
    {
     "name": "stdout",
     "output_type": "stream",
     "text": [
      "front (1).jpg\n",
      "front (10).jpg\n",
      "front (11).jpg\n",
      "front (12).jpg\n",
      "front (13).jpg\n",
      "front (14).jpg\n",
      "front (15).jpg\n",
      "front (16).jpg\n",
      "front (17).jpg\n",
      "front (18).jpg\n",
      "front (19).jpg\n",
      "front (2).jpg\n",
      "front (20).jpg\n",
      "front (3).jpg\n",
      "front (4).jpg\n",
      "front (5).jpg\n",
      "front (6).jpg\n",
      "front (7).jpg\n",
      "front (8).jpg\n",
      "front (9).jpg\n",
      "restaurant (1).jpg\n",
      "restaurant (10).jpg\n",
      "restaurant (11).jpg\n",
      "restaurant (12).jpg\n",
      "restaurant (13).jpg\n",
      "restaurant (14).jpg\n",
      "restaurant (15).jpg\n",
      "restaurant (16).jpg\n",
      "restaurant (17).jpg\n",
      "restaurant (18).jpg\n",
      "restaurant (19).jpg\n",
      "restaurant (2).jpg\n",
      "restaurant (20).jpg\n",
      "restaurant (3).jpg\n",
      "restaurant (4).jpg\n",
      "restaurant (5).jpg\n",
      "restaurant (6).jpg\n",
      "restaurant (7).jpg\n",
      "restaurant (8).jpg\n",
      "restaurant (9).jpg\n",
      "toilet (1).jpg\n",
      "toilet (10).jpg\n",
      "toilet (11).jpg\n",
      "toilet (12).jpg\n",
      "toilet (13).jpg\n",
      "toilet (14).jpg\n",
      "toilet (15).jpg\n",
      "toilet (16).jpg\n",
      "toilet (17).jpg\n",
      "toilet (18).jpg\n",
      "toilet (19).jpg\n",
      "toilet (2).jpg\n",
      "toilet (20).jpg\n",
      "toilet (3).jpg\n",
      "toilet (4).jpg\n",
      "toilet (5).jpg\n",
      "toilet (6).jpg\n",
      "toilet (7).jpg\n",
      "toilet (8).jpg\n",
      "toilet (9).jpg\n"
     ]
    }
   ],
   "source": [
    "for label, class_name in enumerate(classes):\n",
    "    files = glob.glob(path + \"/\" + class_name + \"/*.jpg\")\n",
    "    for file in files:\n",
    "        img = cv2.imread(file)\n",
    "        print(os.path.basename(file))\n",
    "        img = cv2.resize(img, dsize=(224, 224))\n",
    "        X.append(img)\n",
    "        Y.append(label)"
   ]
  },
  {
   "cell_type": "code",
   "execution_count": 235,
   "metadata": {},
   "outputs": [],
   "source": [
    "X = np.array(X)\n",
    "X = X.astype('float32')\n",
    "X /= 255.0"
   ]
  },
  {
   "cell_type": "code",
   "execution_count": 236,
   "metadata": {},
   "outputs": [
    {
     "name": "stdout",
     "output_type": "stream",
     "text": [
      "[[1. 0. 0.]\n",
      " [1. 0. 0.]\n",
      " [1. 0. 0.]\n",
      " [1. 0. 0.]\n",
      " [1. 0. 0.]\n",
      " [1. 0. 0.]\n",
      " [1. 0. 0.]\n",
      " [1. 0. 0.]\n",
      " [1. 0. 0.]\n",
      " [1. 0. 0.]\n",
      " [1. 0. 0.]\n",
      " [1. 0. 0.]\n",
      " [1. 0. 0.]\n",
      " [1. 0. 0.]\n",
      " [1. 0. 0.]\n",
      " [1. 0. 0.]\n",
      " [1. 0. 0.]\n",
      " [1. 0. 0.]\n",
      " [1. 0. 0.]\n",
      " [1. 0. 0.]\n",
      " [0. 1. 0.]\n",
      " [0. 1. 0.]\n",
      " [0. 1. 0.]\n",
      " [0. 1. 0.]\n",
      " [0. 1. 0.]\n",
      " [0. 1. 0.]\n",
      " [0. 1. 0.]\n",
      " [0. 1. 0.]\n",
      " [0. 1. 0.]\n",
      " [0. 1. 0.]\n",
      " [0. 1. 0.]\n",
      " [0. 1. 0.]\n",
      " [0. 1. 0.]\n",
      " [0. 1. 0.]\n",
      " [0. 1. 0.]\n",
      " [0. 1. 0.]\n",
      " [0. 1. 0.]\n",
      " [0. 1. 0.]\n",
      " [0. 1. 0.]\n",
      " [0. 1. 0.]\n",
      " [0. 0. 1.]\n",
      " [0. 0. 1.]\n",
      " [0. 0. 1.]\n",
      " [0. 0. 1.]\n",
      " [0. 0. 1.]\n",
      " [0. 0. 1.]\n",
      " [0. 0. 1.]\n",
      " [0. 0. 1.]\n",
      " [0. 0. 1.]\n",
      " [0. 0. 1.]\n",
      " [0. 0. 1.]\n",
      " [0. 0. 1.]\n",
      " [0. 0. 1.]\n",
      " [0. 0. 1.]\n",
      " [0. 0. 1.]\n",
      " [0. 0. 1.]\n",
      " [0. 0. 1.]\n",
      " [0. 0. 1.]\n",
      " [0. 0. 1.]\n",
      " [0. 0. 1.]]\n"
     ]
    }
   ],
   "source": [
    "Y = np.array(Y)\n",
    "Y = to_categorical(Y, n_classes)\n",
    "print(Y)"
   ]
  },
  {
   "cell_type": "code",
   "execution_count": 237,
   "metadata": {},
   "outputs": [
    {
     "name": "stdout",
     "output_type": "stream",
     "text": [
      "(60, 224, 224, 3)\n",
      "(60, 3)\n"
     ]
    }
   ],
   "source": [
    "X_train = X\n",
    "Y_train = Y\n",
    "print(X_train.shape)\n",
    "print(Y_train.shape)"
   ]
  },
  {
   "cell_type": "code",
   "execution_count": 238,
   "metadata": {},
   "outputs": [],
   "source": [
    "from keras.applications.vgg16 import VGG16\n",
    "from keras.models import Sequential\n",
    "from keras.models import model_from_json\n",
    "from keras.models import Model\n",
    "from keras.layers import Input, Activation, Dense, Flatten, Dropout\n",
    "from tensorflow.keras.optimizers import Adam"
   ]
  },
  {
   "cell_type": "code",
   "execution_count": 239,
   "metadata": {},
   "outputs": [
    {
     "name": "stdout",
     "output_type": "stream",
     "text": [
      "# layers= 20\n",
      "Model: \"model_14\"\n",
      "_________________________________________________________________\n",
      " Layer (type)                Output Shape              Param #   \n",
      "=================================================================\n",
      " input_18 (InputLayer)       [(None, 224, 224, 3)]     0         \n",
      "                                                                 \n",
      " block1_conv1 (Conv2D)       (None, 224, 224, 64)      1792      \n",
      "                                                                 \n",
      " block1_conv2 (Conv2D)       (None, 224, 224, 64)      36928     \n",
      "                                                                 \n",
      " block1_pool (MaxPooling2D)  (None, 112, 112, 64)      0         \n",
      "                                                                 \n",
      " block2_conv1 (Conv2D)       (None, 112, 112, 128)     73856     \n",
      "                                                                 \n",
      " block2_conv2 (Conv2D)       (None, 112, 112, 128)     147584    \n",
      "                                                                 \n",
      " block2_pool (MaxPooling2D)  (None, 56, 56, 128)       0         \n",
      "                                                                 \n",
      " block3_conv1 (Conv2D)       (None, 56, 56, 256)       295168    \n",
      "                                                                 \n",
      " block3_conv2 (Conv2D)       (None, 56, 56, 256)       590080    \n",
      "                                                                 \n",
      " block3_conv3 (Conv2D)       (None, 56, 56, 256)       590080    \n",
      "                                                                 \n",
      " block3_pool (MaxPooling2D)  (None, 28, 28, 256)       0         \n",
      "                                                                 \n",
      " block4_conv1 (Conv2D)       (None, 28, 28, 512)       1180160   \n",
      "                                                                 \n",
      " block4_conv2 (Conv2D)       (None, 28, 28, 512)       2359808   \n",
      "                                                                 \n",
      " block4_conv3 (Conv2D)       (None, 28, 28, 512)       2359808   \n",
      "                                                                 \n",
      " block4_pool (MaxPooling2D)  (None, 14, 14, 512)       0         \n",
      "                                                                 \n",
      " block5_conv1 (Conv2D)       (None, 14, 14, 512)       2359808   \n",
      "                                                                 \n",
      " block5_conv2 (Conv2D)       (None, 14, 14, 512)       2359808   \n",
      "                                                                 \n",
      " block5_conv3 (Conv2D)       (None, 14, 14, 512)       2359808   \n",
      "                                                                 \n",
      " block5_pool (MaxPooling2D)  (None, 7, 7, 512)         0         \n",
      "                                                                 \n",
      " sequential_16 (Sequential)  (None, 3)                 75267     \n",
      "                                                                 \n",
      "=================================================================\n",
      "Total params: 14789955 (56.42 MB)\n",
      "Trainable params: 7154691 (27.29 MB)\n",
      "Non-trainable params: 7635264 (29.13 MB)\n",
      "_________________________________________________________________\n"
     ]
    }
   ],
   "source": [
    "input_tensor = Input(shape=(224,224,3))\n",
    "base_model = VGG16(weights='imagenet', input_tensor=input_tensor, include_top=False)\n",
    "\n",
    "top_model = Sequential()\n",
    "top_model.add(Flatten(input_shape=base_model.output_shape[1:]))\n",
    "top_model.add(Dense(n_classes, activation='softmax'))\n",
    "\n",
    "model = Model(inputs=base_model.input, outputs=top_model(base_model.output))\n",
    "\n",
    "for layer in model.layers[:15]:\n",
    "    layer.trainable = False\n",
    "    \n",
    "print('# layers=', len(model.layers))\n",
    "\n",
    "model.compile(loss='categorical_crossentropy', optimizer='adadelta', metrics=['accuracy'])\n",
    "\n",
    "model.summary()"
   ]
  },
  {
   "cell_type": "code",
   "execution_count": 240,
   "metadata": {},
   "outputs": [
    {
     "name": "stdout",
     "output_type": "stream",
     "text": [
      "Epoch 1/20\n",
      "4/4 [==============================] - 12s 3s/step - loss: 1.2500 - accuracy: 0.1500\n",
      "Epoch 2/20\n",
      "4/4 [==============================] - 10s 2s/step - loss: 1.1913 - accuracy: 0.2000\n",
      "Epoch 3/20\n",
      "4/4 [==============================] - 9s 2s/step - loss: 1.1385 - accuracy: 0.2333\n",
      "Epoch 4/20\n",
      "4/4 [==============================] - 10s 2s/step - loss: 1.0848 - accuracy: 0.3167\n",
      "Epoch 5/20\n",
      "4/4 [==============================] - 10s 2s/step - loss: 1.0357 - accuracy: 0.4167\n",
      "Epoch 6/20\n",
      "4/4 [==============================] - 9s 2s/step - loss: 0.9906 - accuracy: 0.4667\n",
      "Epoch 7/20\n",
      "4/4 [==============================] - 9s 2s/step - loss: 0.9462 - accuracy: 0.6333\n",
      "Epoch 8/20\n",
      "4/4 [==============================] - 9s 2s/step - loss: 0.9038 - accuracy: 0.7167\n",
      "Epoch 9/20\n",
      "4/4 [==============================] - 9s 2s/step - loss: 0.8635 - accuracy: 0.7667\n",
      "Epoch 10/20\n",
      "4/4 [==============================] - 10s 2s/step - loss: 0.8258 - accuracy: 0.8500\n",
      "Epoch 11/20\n",
      "4/4 [==============================] - 10s 2s/step - loss: 0.7894 - accuracy: 0.8833\n",
      "Epoch 12/20\n",
      "4/4 [==============================] - 9s 2s/step - loss: 0.7541 - accuracy: 0.9000\n",
      "Epoch 13/20\n",
      "4/4 [==============================] - 9s 2s/step - loss: 0.7225 - accuracy: 0.9167\n",
      "Epoch 14/20\n",
      "4/4 [==============================] - 9s 2s/step - loss: 0.6927 - accuracy: 0.9333\n",
      "Epoch 15/20\n",
      "4/4 [==============================] - 9s 2s/step - loss: 0.6622 - accuracy: 0.9667\n",
      "Epoch 16/20\n",
      "4/4 [==============================] - 9s 2s/step - loss: 0.6335 - accuracy: 0.9833\n",
      "Epoch 17/20\n",
      "4/4 [==============================] - 10s 2s/step - loss: 0.6068 - accuracy: 0.9833\n",
      "Epoch 18/20\n",
      "4/4 [==============================] - 9s 2s/step - loss: 0.5809 - accuracy: 0.9833\n",
      "Epoch 19/20\n",
      "4/4 [==============================] - 9s 2s/step - loss: 0.5582 - accuracy: 0.9833\n",
      "Epoch 20/20\n",
      "4/4 [==============================] - 9s 2s/step - loss: 0.5337 - accuracy: 1.0000\n",
      "4/4 [==============================] - 7s 2s/step - loss: 0.5166 - accuracy: 1.0000\n"
     ]
    }
   ],
   "source": [
    "model.fit(X_train, Y_train, epochs=20, batch_size=16)\n",
    "\n",
    "score = model.evaluate(X_train, Y_train, batch_size=16)"
   ]
  },
  {
   "cell_type": "code",
   "execution_count": 241,
   "metadata": {},
   "outputs": [],
   "source": [
    "import pickle\n",
    "pickle.dump(classes, open('backend/models/classes.sav', 'wb'))\n",
    "model.save('backend/models/cnn.h5')"
   ]
  },
  {
   "cell_type": "code",
   "execution_count": 242,
   "metadata": {},
   "outputs": [],
   "source": [
    "from keras.models import load_model\n",
    "import pickle\n",
    "import cv2\n",
    "import glob"
   ]
  },
  {
   "cell_type": "code",
   "execution_count": 243,
   "metadata": {},
   "outputs": [],
   "source": [
    "model = load_model('backend/models/cnn.h5')\n",
    "classes = pickle.load(open('backend/models/classes.sav', 'rb'))"
   ]
  },
  {
   "cell_type": "code",
   "execution_count": 244,
   "metadata": {},
   "outputs": [
    {
     "name": "stdout",
     "output_type": "stream",
     "text": [
      "1/1 [==============================] - 0s 339ms/step\n"
     ]
    },
    {
     "data": {
      "text/plain": [
       "True"
      ]
     },
     "execution_count": 244,
     "metadata": {},
     "output_type": "execute_result"
    }
   ],
   "source": [
    "img = cv2.imread('./image/base/front/front (2).jpg')\n",
    "img = cv2.resize(img, dsize=(224, 224))\n",
    "img = img.astype('float32')\n",
    "img /= 255.0\n",
    "img = img[None, ...]\n",
    "result = model.predict(img)\n",
    "pred = result.argmax()\n",
    "\n",
    "img = cv2.imread('./image/base/front/front (2).jpg')\n",
    "cv2.putText(img, classes[pred] + ' ' + str(result[0][pred] * 100) + '%', (0, 50), cv2.FONT_HERSHEY_PLAIN, 4, (0, 0, 0), 5, cv2.LINE_AA)\n",
    "cv2.imwrite('./image/output/' + str(classes[pred]) + '/front (2).jpg', img)"
   ]
  },
  {
   "cell_type": "code",
   "execution_count": 245,
   "metadata": {},
   "outputs": [
    {
     "name": "stdout",
     "output_type": "stream",
     "text": [
      "1/1 [==============================] - 0s 157ms/step\n",
      "1/1 [==============================] - 0s 171ms/step\n",
      "1/1 [==============================] - 0s 157ms/step\n",
      "1/1 [==============================] - 0s 143ms/step\n",
      "1/1 [==============================] - 0s 185ms/step\n",
      "1/1 [==============================] - 0s 180ms/step\n",
      "1/1 [==============================] - 0s 187ms/step\n",
      "1/1 [==============================] - 0s 155ms/step\n",
      "1/1 [==============================] - 0s 162ms/step\n",
      "1/1 [==============================] - 0s 154ms/step\n",
      "1/1 [==============================] - 0s 149ms/step\n",
      "1/1 [==============================] - 0s 181ms/step\n",
      "1/1 [==============================] - 0s 170ms/step\n",
      "1/1 [==============================] - 0s 191ms/step\n",
      "1/1 [==============================] - 0s 198ms/step\n",
      "1/1 [==============================] - 0s 188ms/step\n",
      "1/1 [==============================] - 0s 171ms/step\n",
      "1/1 [==============================] - 0s 151ms/step\n",
      "1/1 [==============================] - 0s 171ms/step\n",
      "1/1 [==============================] - 0s 162ms/step\n",
      "1/1 [==============================] - 0s 165ms/step\n",
      "1/1 [==============================] - 0s 167ms/step\n",
      "1/1 [==============================] - 0s 151ms/step\n",
      "1/1 [==============================] - 0s 231ms/step\n",
      "1/1 [==============================] - 0s 188ms/step\n",
      "1/1 [==============================] - 0s 144ms/step\n",
      "1/1 [==============================] - 0s 166ms/step\n",
      "1/1 [==============================] - 0s 170ms/step\n",
      "1/1 [==============================] - 0s 161ms/step\n",
      "1/1 [==============================] - 0s 156ms/step\n",
      "1/1 [==============================] - 0s 162ms/step\n",
      "1/1 [==============================] - 0s 155ms/step\n",
      "1/1 [==============================] - 0s 145ms/step\n",
      "1/1 [==============================] - 0s 178ms/step\n",
      "1/1 [==============================] - 0s 201ms/step\n",
      "1/1 [==============================] - 0s 144ms/step\n",
      "1/1 [==============================] - 0s 157ms/step\n",
      "1/1 [==============================] - 0s 189ms/step\n",
      "1/1 [==============================] - 0s 146ms/step\n",
      "1/1 [==============================] - 0s 168ms/step\n",
      "1/1 [==============================] - 0s 203ms/step\n",
      "1/1 [==============================] - 0s 148ms/step\n",
      "1/1 [==============================] - 0s 159ms/step\n",
      "1/1 [==============================] - 0s 167ms/step\n",
      "1/1 [==============================] - 0s 144ms/step\n",
      "1/1 [==============================] - 0s 149ms/step\n",
      "1/1 [==============================] - 0s 141ms/step\n",
      "1/1 [==============================] - 0s 157ms/step\n",
      "1/1 [==============================] - 0s 180ms/step\n",
      "1/1 [==============================] - 0s 178ms/step\n",
      "1/1 [==============================] - 0s 133ms/step\n",
      "1/1 [==============================] - 0s 153ms/step\n",
      "1/1 [==============================] - 0s 178ms/step\n",
      "1/1 [==============================] - 0s 139ms/step\n",
      "1/1 [==============================] - 0s 160ms/step\n",
      "1/1 [==============================] - 0s 146ms/step\n",
      "1/1 [==============================] - 0s 149ms/step\n",
      "1/1 [==============================] - 0s 183ms/step\n",
      "1/1 [==============================] - 0s 162ms/step\n",
      "1/1 [==============================] - 0s 138ms/step\n"
     ]
    }
   ],
   "source": [
    "files = glob.glob('./image/all/*')\n",
    "for file in files:\n",
    "    img = cv2.imread(file)\n",
    "    img = cv2.resize(img, dsize=(224, 224))\n",
    "    img = img.astype('float32')\n",
    "    img /= 255.0\n",
    "    img = img[None, ...]\n",
    "    result = model.predict(img)\n",
    "    pred = result.argmax()\n",
    "    img = cv2.imread(file)\n",
    "    cv2.putText(img, classes[pred] + ' ' + str(result[0][pred] * 100) + '%', (0, 50), cv2.FONT_HERSHEY_PLAIN, 4, (0, 0, 0), 5, cv2.LINE_AA)\n",
    "    cv2.putText(img, classes[result.argmin()] + ' ' + str(result[0][result.argmin()] * 100) + '%', (0, 150), cv2.FONT_HERSHEY_PLAIN, 4, (0, 0, 0), 5, cv2.LINE_AA)\n",
    "    cv2.imwrite('./image/output/' + str(classes[pred]) + '/' + os.path.basename(file), img)"
   ]
  },
  {
   "cell_type": "code",
   "execution_count": null,
   "metadata": {},
   "outputs": [],
   "source": []
  }
 ],
 "metadata": {
  "kernelspec": {
   "display_name": ".venv",
   "language": "python",
   "name": "python3"
  },
  "language_info": {
   "codemirror_mode": {
    "name": "ipython",
    "version": 3
   },
   "file_extension": ".py",
   "mimetype": "text/x-python",
   "name": "python",
   "nbconvert_exporter": "python",
   "pygments_lexer": "ipython3",
   "version": "3.11.5"
  }
 },
 "nbformat": 4,
 "nbformat_minor": 2
}
